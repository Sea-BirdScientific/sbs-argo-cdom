{
  "cells": [
    {
      "cell_type": "markdown",
      "source": [
        "# CDOM Correction Notebook for SBS MCOMS"
      ],
      "metadata": {
        "id": "uy8CyjWtT__-"
      },
      "id": "uy8CyjWtT__-"
    },
    {
      "cell_type": "code",
      "execution_count": null,
      "id": "t1iHEz28i9XJ",
      "metadata": {
        "id": "t1iHEz28i9XJ",
        "collapsed": true
      },
      "outputs": [],
      "source": [
        "!pip install cartopy\n",
        "!pip install argovisHelpers"
      ]
    },
    {
      "cell_type": "code",
      "source": [
        "!git clone https://github.com/Sea-BirdScientific/sbs-argo-cdom.git"
      ],
      "metadata": {
        "id": "tRtO0pV5bIka",
        "collapsed": true
      },
      "id": "tRtO0pV5bIka",
      "execution_count": null,
      "outputs": []
    },
    {
      "cell_type": "code",
      "source": [
        "from google.colab import drive\n",
        "drive.mount('/content/drive', force_remount=True)"
      ],
      "metadata": {
        "id": "CF0NpONceiGY"
      },
      "id": "CF0NpONceiGY",
      "execution_count": null,
      "outputs": []
    },
    {
      "cell_type": "code",
      "execution_count": null,
      "id": "203bc186",
      "metadata": {
        "id": "203bc186",
        "trusted": true
      },
      "outputs": [],
      "source": [
        "# %load_ext autoreload\n",
        "# %autoreload 2\n",
        "import sys\n",
        "sys.path.insert(0,'sbs-argo-cdom')\n",
        "\n",
        "import cartopy.crs as ccrs\n",
        "import cartopy.feature as cfeature\n",
        "import numpy as np\n",
        "from datetime import datetime, timedelta\n",
        "from argovisHelpers import helpers as avh\n",
        "import seaborn as sns\n",
        "import pandas as pd\n",
        "import plotly.express as px\n",
        "from plotly.subplots import make_subplots\n",
        "import plotly.graph_objects as go\n",
        "from cdomHelpers import *\n",
        "\n",
        "sns.set_style(\"darkgrid\")\n",
        "\n",
        "API_KEY='3e2bda40368d095888a54898b2f52c1fa50df102'\n",
        "API_PREFIX = 'https://argovis-api.colorado.edu/'"
      ]
    },
    {
      "cell_type": "markdown",
      "id": "96063172",
      "metadata": {
        "id": "96063172"
      },
      "source": [
        "### Argo CDOM Observations\n",
        "- CDOM profiles in show distinct values at depths > 1000 m, even in the same region of the ocean\n",
        "- This occurs for both ECO and MCOMS sensors\n",
        "- Evidence points to issues with calibration standards used for both ECO and MCOMS, rather than secondary reference sensor drift or random changes in in-situ dark count drift"
      ]
    },
    {
      "cell_type": "code",
      "source": [
        "dataSetName = 'JAMSTEC NAVIS_A'\n",
        "polygon = '[[141,54.5],[141, 26.3],[179.9, 26.3],[179.9, 54.5],[141, 54.5]]'\n",
        "startDate = '2017-01-01T00:00:00Z'\n",
        "endDate = ''\n",
        "\n",
        "# Cannot do Argovis query by SENSOR_MODEL but can do by PLATFORM_TYPE (effectively limiting query to MCOMS)\n",
        "platform_type = 'NAVIS_A'   #'NAVIS_A', 'NAVIS_EBR', 'PROVOR_III', etc.\n",
        "print(dataSetName)\n",
        "\n",
        "\n",
        "# Retrieve CDOM Profile data using spatial query\n",
        "(dfm, dfmap) = getProfilesFromPolygon(polygon, startDate, endDate, platform_type)\n",
        "dfm.head()\n",
        "dfSave(dataSetName, dfm,dfmap)"
      ],
      "metadata": {
        "id": "GRdtDp_5QHCt"
      },
      "id": "GRdtDp_5QHCt",
      "execution_count": null,
      "outputs": []
    },
    {
      "cell_type": "code",
      "execution_count": null,
      "id": "c2c0a242",
      "metadata": {
        "id": "c2c0a242",
        "collapsed": true
      },
      "outputs": [],
      "source": [
        "dataSetName= 'JAMSTEC NAVIS_A'\n",
        "(dfm, dfmap) = dfRead(dataSetName)\n",
        "plotdfmByYear(dataSetName, dfm, 'cdom', xrange=[0,10])\n",
        "dfm.head(2)"
      ]
    },
    {
      "cell_type": "markdown",
      "id": "2ca284d6",
      "metadata": {
        "id": "2ca284d6"
      },
      "source": [
        "### MCOMS secondary reference sensor calibration history\n",
        "- For each calibration period, secondary reference sensor calibration (RefScaleFactor) is considered constant\n",
        "- This is contrary to initial assumption but consistent with distinct \"stripes\" in CDOM data"
      ]
    },
    {
      "cell_type": "code",
      "execution_count": null,
      "id": "0421b5e9",
      "metadata": {
        "id": "0421b5e9",
        "collapsed": true
      },
      "outputs": [],
      "source": [
        "dfref = pd.read_csv('/content/drive/MyDrive/SBS/data/MCOMS-036-Calibration-SF-CF.csv')\n",
        "dfref.head(10)"
      ]
    },
    {
      "cell_type": "markdown",
      "id": "7455f606",
      "metadata": {
        "id": "7455f606"
      },
      "source": []
    },
    {
      "cell_type": "markdown",
      "id": "7bef59ec",
      "metadata": {
        "id": "7bef59ec"
      },
      "source": [
        "### Developement of CDOM Reference Sensor Correction\n",
        "\n",
        "First, the Scaling Factor SF due to change in CDOM primary reference preparation was found by taking ratio of mean scale factors for three secondary reference CDOM sensors (two ECO, one MCOMS) over short period just prior and after the change in primary reference,  taking the mean of these three ratios, yielding SF = 5.62.  \n",
        "```\n",
        "    ScalingFactor = SF = 5.62  (calDate <  2013-01-13)\n",
        "                       = 1.00  (calDate >= 2013-01-13)\n",
        "```\n",
        "Then we can scale any reference factor atonew CDOM primary:\n",
        "```\n",
        "    RefScaleFactorScaled = RefScaleFactor * SF\n",
        "```\n",
        "\n",
        "Next, the correction factor CF is computed by normalizing the RefScaleFactorAdj to mean RefScaleFactorAdj for calibraitons after the primary CDOM reference was updated (SF=1):\n",
        "```\n",
        "    CF = mean(RefScaleFactorAdj[SF=1])/ RefScaleFactor\n",
        "```\n",
        "\n",
        "Any CDOM ScaleFactor is found by:\n",
        "\n",
        "```\n",
        "    ScaleFactorCorrected = ScaleFactor * SF * CF\n",
        "    RefScaleFactorCorrected = RefScaleFactor * SF * CF\n",
        "```"
      ]
    },
    {
      "cell_type": "code",
      "execution_count": null,
      "id": "21655e15",
      "metadata": {
        "id": "21655e15"
      },
      "outputs": [],
      "source": [
        "# RefScaleFactors vs. time\n",
        "cols = ['RefScaleFactor', 'RefScaleFactorScaled', 'RefScaleFactorCorrected']\n",
        "df2 = dfref.melt(id_vars='RefCalDate', value_vars = cols)\n",
        "fig = px.scatter(df2, x=\"RefCalDate\", y=\"value\", title='Reference Scale Factors', color='variable', symbol='variable', range_y=[0,0.04], height=400, width=800)\n",
        "fig.update_traces(marker_size=8)\n",
        "fig.show()\n"
      ]
    },
    {
      "cell_type": "markdown",
      "id": "b8674f9e",
      "metadata": {
        "id": "b8674f9e"
      },
      "source": [
        "### In Situ Validity Check:\n",
        "* Select data from NW Pacific (JAMSETC floats)\n",
        "* Scale MCOMS CDOM data by SF.  \n",
        "* Compute CDOM2000 = mean(CDOM) at approx. 2000 m for each float across all profiles/\n",
        "* CDOM2000ref = CDOM2000[SF=1] (one float with correct CDOM a calibration (>= 2023-01-13)\n",
        "* For remaining floats: Within each calibration period i, find mean(CDOM2000(i)\n",
        "* Compute DeepCF(i) = CDOM2000ref / CDOM2000(i)\n",
        "* DeepCF should be close to CF (possible addtional in situ variability)"
      ]
    },
    {
      "cell_type": "code",
      "execution_count": null,
      "id": "8d6bbbff",
      "metadata": {
        "id": "8d6bbbff"
      },
      "outputs": [],
      "source": [
        "# Correction Factor vs. time\n",
        "cols = ['CF', 'DeepCF']\n",
        "df3 = dfref.melt(id_vars='RefCalDate', value_vars = cols)\n",
        "fig = px.scatter(df3, x=\"RefCalDate\", y=\"value\", title='Correction Factor Validation', color='variable', symbol='variable', range_y=[0,1.1], height=400, width=800)\n",
        "fig.update_traces(marker_size=8)\n",
        "fig.show()"
      ]
    },
    {
      "cell_type": "markdown",
      "id": "c58de573",
      "metadata": {
        "id": "c58de573"
      },
      "source": [
        "### CDOM Correction database corrCDOM\n",
        "- __SBS__:  SF*CF correction applied to ScaleFactor for *every* SBS MCOMS sensor for which we have calibration data (N=267)\n",
        "- __Argo__: Metadata (C. Schmechtig) for all Argo CDOM sensors for each DAC: (wmoid, SENSOR_MODEL, SENSOR_SERIAL_NO,...)\n",
        "- __SBS__ ⟕ __Argo__ : SBS and Argo tables joined using SENSOR_SERIAL_NO (M = 137)\n",
        "- M < N due to prototypes, R&D deployments, failed sensors, etc.\n",
        "- CDOMcorr DB has unique entry for each WMOID-SENSOR_SERIAL_NUMBER combination\n",
        "\n",
        "Corrections can applied to existing data by simple WMOID lookup:  \n",
        "```\n",
        "    SF = corrCDOM.query(wmoid, 'SF')\n",
        "    CF = corrCDOM.query(wmoid, 'CF')\n",
        "    CDOM' = CDOM * SF * CF\n",
        "```"
      ]
    },
    {
      "cell_type": "code",
      "execution_count": null,
      "id": "d26c67e4",
      "metadata": {
        "id": "d26c67e4"
      },
      "outputs": [],
      "source": [
        "CDOMcorr().gist()"
      ]
    },
    {
      "cell_type": "markdown",
      "id": "84c16a72",
      "metadata": {
        "id": "84c16a72"
      },
      "source": [
        "### Step 1: Find set of floats that span the range of MCOMS calibration dates in the same region of the ocean\n",
        "\n",
        " --> Argovis spatial query using polygon\n",
        " --> Cannot do Argovis query by SENSOR_MODEL but can do query by PLATFORM_TYPE (effectively limiting query to MCOMS)"
      ]
    },
    {
      "cell_type": "markdown",
      "id": "da6efde3",
      "metadata": {
        "id": "da6efde3"
      },
      "source": [
        "### Found: JAMSTEC NAVIS_A Floats in NW Pacific spanning 2018-2024\n",
        "This period spans :\n",
        "*  SF : Transition to correct CDOM Primary Reference (CDOM Advisory Issue #1) - Applies only to calibrations prior to 2023-01-13.\n",
        "*  CF : Six correction factors representing six Reference sensor calibration dates (CDOM Advisor Issue #2),"
      ]
    },
    {
      "cell_type": "code",
      "execution_count": null,
      "id": "6b66776c",
      "metadata": {
        "id": "6b66776c"
      },
      "outputs": [],
      "source": [
        "dataSetName = 'JAMSTEC NAVIS_A'\n",
        "dfm, dfmap = dfRead(dataSetName)\n",
        "mapboxProfiles(dfmap, dataSetName, polygon)"
      ]
    },
    {
      "cell_type": "markdown",
      "source": [
        "### Retrieve a subset of JAMSETC NAVIS_A dataset"
      ],
      "metadata": {
        "id": "3CMnI3fbYNQb"
      },
      "id": "3CMnI3fbYNQb"
    },
    {
      "cell_type": "code",
      "execution_count": null,
      "id": "e6853cd4",
      "metadata": {
        "id": "e6853cd4",
        "collapsed": true
      },
      "outputs": [],
      "source": [
        "# Retrieve a subset of JAMSETC NAVIS_A dataset data using a list of floats (WMOids)\n",
        "\n",
        "# Setup CDOM correction database\n",
        "cdomCorr = CDOMcorr()\n",
        "\n",
        "# Define data set\n",
        "dataSetName = 'NAVIS_A fDOM NWPacific Set'\n",
        "platforms = np.array([2903213,2903329,2903393,2903396,2903666,2903669,2903700,5906596,5906597])\n",
        "\n",
        "# Look up scale factor from CDOMcorr DB\n",
        "doCorrection = True\n",
        "ScalingFactor = [ cdomCorr.query(wmoid, 'SF') for wmoid in platforms]\n",
        "CorrectionFactor = [ cdomCorr.query(wmoid, 'CF') for wmoid in platforms]\n",
        "# CorrectionFactor = np.array([0.40,0.40,0.40,0.40,0.40,0.40, 0.93,0.93,1.00])   #derived from Deep CDOM\n",
        "\n",
        "print(f'CF = {CorrectionFactor}')\n",
        "print(f'SF = {ScalingFactor}')\n",
        "\n",
        "# define temporal query parameters\n",
        "startDate = '2017-01-01T00:00:00Z'\n",
        "endDate = ''"
      ]
    },
    {
      "cell_type": "markdown",
      "id": "69b40c8e",
      "metadata": {
        "id": "69b40c8e"
      },
      "source": [
        "### Step 2: Regional Validation : NAVIS_A fDOM NWPacific Set  (reduced set selected from geoquery above)\n",
        "\n",
        "Floats  = 9\n",
        "Profiles = 984\n",
        "\n",
        "Answer two questions:\n",
        "1. Do the CDOM profiles align reasonably using SF*CF correction?\n",
        "2. Independently derive DeepCF from alignment of deep (2000 m), using a single recently deploye NAVIS float (5906597) as reference\n",
        "\n",
        "```platforms = [2903213,2903329,2903393,2903396,2903666,2903669,2903700,5906596,5906597]```"
      ]
    },
    {
      "cell_type": "code",
      "source": [
        "# Run argovis query\n",
        "(dfm, dfmap) = getProfilesFromFloats(platforms, startDate, endDate, doCorrection, CorrectionFactor, ScalingFactor)\n",
        "dfSave(dataSetName, dfm, dfmap)"
      ],
      "metadata": {
        "id": "T_70RnJMz2R_",
        "collapsed": true
      },
      "id": "T_70RnJMz2R_",
      "execution_count": null,
      "outputs": []
    },
    {
      "cell_type": "code",
      "execution_count": null,
      "id": "4dd8fd2b",
      "metadata": {
        "id": "4dd8fd2b"
      },
      "outputs": [],
      "source": [
        "dataSetName = 'NAVIS_A fDOM NWPacific Set'\n",
        "dfm, dfmap = dfRead(dataSetName)\n",
        "cdom2000(dfm)\n",
        "\n",
        "mapboxProfiles(dfmap, dataSetName)"
      ]
    },
    {
      "cell_type": "code",
      "execution_count": null,
      "id": "6856ad5b",
      "metadata": {
        "id": "6856ad5b"
      },
      "outputs": [],
      "source": [
        "# Plot: color by wmoid, facet by year, animate by cdom variable\n",
        "dataSetName = 'NAVIS_A fDOM NWPacific Set'\n",
        "(dfm, dfmap) = dfRead(dataSetName)\n",
        "plotdfmByYearAnim(dataSetName, dfm)"
      ]
    },
    {
      "cell_type": "markdown",
      "id": "d6547a36",
      "metadata": {
        "id": "d6547a36"
      },
      "source": [
        "### Step 3: Global Validation : NAVIS_A fDOM Global Validation Set  \n",
        "\n",
        "Floats  = 28\n",
        "Profiles = 1926\n",
        "\n",
        "Select 28 floats worldwide to span as much of the MCOMS calibration history as possible\n",
        "\n",
        "Answer two questions:\n",
        "1. Is the MCOMS SF*CF correction valid globally?\n",
        "2. Is the variability in the results consistent with what we know about global CDOM Hydrography?  (c.f., Nelson et al., 2010)\n",
        "\n",
        "--> Expectation for #1: It should be, as the correction was derived from MCOMS secondary reference sensor calibration history, *not* in situ data.\n",
        "\n",
        "```\n",
        "platforms = [5906035,5906036,5906309,5906304,5906306,5906308,1902303,5906305,5906311,5906310,5906026,5906508,5906442,5906307,\n",
        "             5906563,5906565,5906537,4903500,4903499,5906539,5906540,7901009,2903459,2903462,2903461,2903463,1902497,1902499]\n",
        "```"
      ]
    },
    {
      "cell_type": "code",
      "execution_count": null,
      "id": "b84581cc",
      "metadata": {
        "id": "b84581cc"
      },
      "outputs": [],
      "source": [
        "### NAVIS_A fDOM Global Validation Set\n",
        "# Instead of using polygon, retrieve data using a list of floats (WMOids)\n",
        "#\n",
        "# Note that none of mapping routines above work since they all require a polygon.\n",
        "\n",
        "dataSetName = 'NAVIS_A fDOM Global Validation Set'\n",
        "platforms = np.array([5906035,5906036,5906309,5906304,5906306,5906308,1902303,5906305,5906311,5906310,5906026,5906508,5906442,5906307,5906563,5906565,5906537,4903500,4903499,5906539,5906540,7901009,2903459,2903462,2903461,2903463,1902497,1902499])\n",
        "startDate = '2017-01-01T00:00:00Z'\n",
        "endDate = ''\n",
        "\n",
        "# Look up scale factor from CDOMcorr DB\n",
        "doCorrection = True\n",
        "cdomCorr = CDOMcorr()\n",
        "ScalingFactor = [ cdomCorr.query(wmoid, 'SF') for wmoid in platforms]\n",
        "CorrectionFactor = [ cdomCorr.query(wmoid, 'CF') for wmoid in platforms]\n",
        "\n",
        "print(f'CF = {CorrectionFactor}')\n",
        "print(f'SF = {ScalingFactor}')"
      ]
    },
    {
      "cell_type": "code",
      "execution_count": null,
      "id": "4117ac0b",
      "metadata": {
        "id": "4117ac0b",
        "collapsed": true
      },
      "outputs": [],
      "source": [
        "# Use arovis to get data for a list of floats\n",
        "(dfm, dfmap) = getProfilesFromFloats(platforms, startDate, endDate, doCorrection, CorrectionFactor, ScalingFactor)\n",
        "dfSave(dataSetName, dfm, dfmap)"
      ]
    },
    {
      "cell_type": "code",
      "execution_count": null,
      "id": "ede31f72",
      "metadata": {
        "id": "ede31f72"
      },
      "outputs": [],
      "source": [
        "# Plot: color by wmoid, facet by year, animate by cdom variable\n",
        "dataSetName = 'NAVIS_A fDOM Global Validation Set'\n",
        "(dfm, dfmap) = dfRead(dataSetName)\n",
        "cdom2000(dfm)\n",
        "\n",
        "mapboxProfiles(dfmap, dataSetName)\n"
      ]
    },
    {
      "cell_type": "code",
      "source": [
        "# Profiles\n",
        "plotdfmByYearAnim(dataSetName, dfm)\n",
        "\n"
      ],
      "metadata": {
        "id": "-FGt9CMl2HSs"
      },
      "id": "-FGt9CMl2HSs",
      "execution_count": null,
      "outputs": []
    },
    {
      "cell_type": "code",
      "source": [
        "# T-S Diagram\n",
        "var = 'temperature'\n",
        "# (dfm, dfmap) = dfRead(dataSetName)\n",
        "plotdfmXYByYear(dataSetName, dfm, 'salinity', var)"
      ],
      "metadata": {
        "id": "DK0EMlis2RYc"
      },
      "id": "DK0EMlis2RYc",
      "execution_count": null,
      "outputs": []
    },
    {
      "cell_type": "markdown",
      "id": "d94ed6ec",
      "metadata": {
        "id": "d94ed6ec"
      },
      "source": [
        "### Simple statistics of Corrected CDOM @ 2000 m  (mean, std, CoV)"
      ]
    },
    {
      "cell_type": "code",
      "execution_count": null,
      "id": "db9bd630",
      "metadata": {
        "id": "db9bd630"
      },
      "outputs": [],
      "source": [
        "# Variabiity of Corrected CDOM @ 2000 m\n",
        "\n",
        "dataSetName = 'NAVIS_A fDOM NWPacific Set'\n",
        "(dfm, dfmap) = dfRead(dataSetName)\n",
        "cdom2000(dfm)\n",
        "print('')\n",
        "\n",
        "\n",
        "dataSetName = 'NAVIS_A fDOM Global Validation Set'\n",
        "(dfm, dfmap) = dfRead(dataSetName)\n",
        "cdom2000(dfm)\n",
        "print('')\n",
        "\n",
        "dataSetName = 'NAVIS_A KenJ-20240422'\n",
        "(dfm, dfmap) = dfRead(dataSetName)\n",
        "cdom2000(dfm)\n",
        "print('')\n",
        "\n",
        "# dataSetName = 'NAVIS_A fDOM NWPacific Set'\n",
        "dataSetName = 'NAVIS_A fDOM Global Validation Set'\n",
        "\n",
        "(dfm, dfmap) = dfRead(dataSetName)\n",
        "fig = px.box(dfm, x='year', y='cdom_adj', title=dataSetName)\n",
        "fig.show()\n",
        "fig.update_yaxes(range=[0,20])\n",
        "fig.show()\n",
        "fig = px.violin(dfm, x='year', y='cdom_adj', title=dataSetName)\n",
        "fig.update_yaxes(range=[0,20])\n",
        "fig.show()\n",
        "\n"
      ]
    },
    {
      "cell_type": "markdown",
      "source": [
        "### Global CDOM Hydrography  (absorption, spectral slope)\n",
        "\n",
        "Nelson et al., GRL, 2010\n",
        "Tracing global biogeochemical cycles and meridional overturning\n",
        "circulation using chromophoric dissolved organic matter\n",
        "\n",
        "https://doi.org/10.1029/2009GL042325"
      ],
      "metadata": {
        "id": "QZ0lh0P6spIq"
      },
      "id": "QZ0lh0P6spIq"
    },
    {
      "cell_type": "code",
      "source": [
        "from IPython.display import Image\n",
        "Image(filename='/content/drive/MyDrive/Colab Notebooks/images/Nelson2010Fig3.jpg',width=1000)"
      ],
      "metadata": {
        "id": "M2P98x7fxKYq"
      },
      "id": "M2P98x7fxKYq",
      "execution_count": null,
      "outputs": []
    },
    {
      "cell_type": "markdown",
      "source": [
        "### Reconciliation of SF*CF Corrected CDOM values with previous work.\n",
        "\n",
        "(Nelson & Gauglitz, 2016) https://doi.org/10.3389/fmars.2015.00118\n",
        "Optical Signatures of Dissolved Organic Matter Transformation in the Global Ocean\n",
        "\n",
        "Under review.\n",
        "\n",
        "\"*Sensitivity of the [ECO] instrument varied with gain settings and calibration drift. To facilitate comparison with the EEM data, we devised a linear transfer function for each cruise (over which gain and calibration were assumed to be constant) to transfer the quinine-sulfate scaled EEM data (ppb QSE) from the W region (Figure 2) to the ECO fluorometer data.*\"\n"
      ],
      "metadata": {
        "id": "bCYGLvOvdGou"
      },
      "id": "bCYGLvOvdGou"
    },
    {
      "cell_type": "markdown",
      "id": "a62f9759",
      "metadata": {
        "id": "a62f9759"
      },
      "source": [
        "### Check: Recent NAVIS_A Floats, aka KenJ-20240422\n",
        "\n",
        "platforms = [1902493, 192494, 1902495, 2903863, 2903866, 4903571, 4903752, 7901102]"
      ]
    },
    {
      "cell_type": "code",
      "execution_count": null,
      "id": "32b3680a",
      "metadata": {
        "id": "32b3680a"
      },
      "outputs": [],
      "source": [
        "dataSetName = 'NAVIS_A KenJ-20240422'\n",
        "platforms = np.array([1902493, 192494, 1902495, 2903863, 2903866, 4903571, 4903752, 7901102])\n",
        "\n",
        "# startDate = '2024-01-01T00:00:00Z'\n",
        "startDate = '2023-01-01T00:00:00Z'\n",
        "endDate = ''\n",
        "doCorrection = True\n",
        "CorrectionFactor = np.array([1,1,1,1,1,1,1,1])\n",
        "ScalingFactor    = np.array([1,1,1,1,1,1,1,1])\n",
        "\n",
        "print(f'CF = {CorrectionFactor}')\n",
        "print(f'SF = {ScalingFactor}')"
      ]
    },
    {
      "cell_type": "code",
      "execution_count": null,
      "id": "57b5e381",
      "metadata": {
        "id": "57b5e381"
      },
      "outputs": [],
      "source": [
        "(dfm, dfmap) = getProfilesFromFloats(platforms, startDate, endDate, doCorrection, CorrectionFactor, ScalingFactor)\n",
        "dfSave(dataSetName, dfm, dfmap)"
      ]
    },
    {
      "cell_type": "code",
      "execution_count": null,
      "id": "af901e86",
      "metadata": {
        "id": "af901e86"
      },
      "outputs": [],
      "source": [
        "dfm, dfmap = dfRead(dataSetName)\n",
        "mapboxProfiles(dfmap, dataSetName)"
      ]
    },
    {
      "cell_type": "code",
      "execution_count": null,
      "id": "b43229c6",
      "metadata": {
        "id": "b43229c6"
      },
      "outputs": [],
      "source": [
        "# Plot: color by wmoid, facet by year, animate by cdom variable\n",
        "(dfm, dfmap) = dfRead(dataSetName)\n",
        "plotdfmByYear(dataSetName, dfm, 'cdom_adj')\n",
        "\n",
        "var = 'temperature'\n",
        "plotdfmXYByYear(dataSetName, dfm, 'salinity', var)"
      ]
    },
    {
      "cell_type": "markdown",
      "source": [
        "### Ocean currents around Aotearoa/New Zealand\n",
        "https://nzase.org.nz/wp-content/uploads/2020/10/2020-10-NZ-Oceans-NZASE-resource.pdf"
      ],
      "metadata": {
        "id": "ec_s4fX3ySu5"
      },
      "id": "ec_s4fX3ySu5"
    },
    {
      "cell_type": "code",
      "source": [
        "Image(filename='/content/drive/MyDrive/Colab Notebooks/images/NZASE-NZ-Currrents.png',width=500)\n",
        "\n"
      ],
      "metadata": {
        "id": "wobsJ0yOzL1w"
      },
      "id": "wobsJ0yOzL1w",
      "execution_count": null,
      "outputs": []
    },
    {
      "cell_type": "markdown",
      "id": "eca47439",
      "metadata": {
        "id": "eca47439"
      },
      "source": [
        "### Extra code"
      ]
    },
    {
      "cell_type": "code",
      "execution_count": null,
      "id": "e67ed998",
      "metadata": {
        "id": "e67ed998"
      },
      "outputs": [],
      "source": [
        "# dataSetName = 'JAMSTEC NAVIS_A'\n",
        "dataSetName = 'NAVIS_A fDOM NWPacific Set'\n",
        "# dataSetName = 'NAVIS_A fDOM Global Validation Set'\n",
        "# dataSetName = 'PacificNW APEX'\n",
        "# dataSetName = 'NAVIS_A KenJ-20240422'\n",
        "\n",
        "# Plot it\n",
        "(dfm, dfmap) = dfRead(dataSetName)\n",
        "plotdfmByYear(dataSetName, dfm, 'cdom')\n",
        "plotdfmByYear(dataSetName, dfm, 'cdom_sc')\n",
        "plotdfmByYear(dataSetName, dfm, 'cdom_adj')"
      ]
    },
    {
      "cell_type": "code",
      "execution_count": null,
      "id": "df4f1a77",
      "metadata": {
        "id": "df4f1a77"
      },
      "outputs": [],
      "source": [
        "# Plot: color by wmoid, facet by year, animate by cdom variable\n",
        "plotdfmByYearAnim(dataSetName, dfm)"
      ]
    },
    {
      "cell_type": "code",
      "execution_count": null,
      "id": "856c534b",
      "metadata": {
        "id": "856c534b"
      },
      "outputs": [],
      "source": [
        "# Plot it\n",
        "# var = 'cdom'\n",
        "# var = 'cdom_sc'\n",
        "# var = 'cdom_adj'\n",
        "var = 'temperature'\n",
        "# (dfm, dfmap) = dfRead(dataSetName)\n",
        "plotdfmXYByYear(dataSetName, dfm, 'salinity', var)"
      ]
    },
    {
      "cell_type": "markdown",
      "source": [
        "### Expected CDOM values from EEM CDOM fluoresence spectroscopy (not ECO or MCOMS).  \n",
        "\n",
        "\"*Sensitivity of the [ECO] instrument varied with gain settings and calibration drift. To facilitate comparison with the EEM data, we devised a linear transfer function for each cruise (over which gain and calibration were assumed to be constant) to transfer the quinine-sulfate scaled EEM data (ppb QSE) from the W region (Figure 2) to the ECO fluorometer data.*\"\n",
        "\n",
        "(Nelson & Gauglitz, 2016)\n",
        "https://doi.org/10.3389/fmars.2015.00118\n",
        "\n",
        "Depth distributions of CDOM fluorescence (PPB QSE) in the characterisitic reqtions (as denoted in Figure 2), for four latitude-bounded regions of the global ocean: (A) North Atlantic (>40N), (B) Subtropical/Tropical regioins al all oceans (40N - 40 S) (C) Southern Ocean (40S - 55S), (D) Antarctic (below 55S).\n",
        "\n",
        "Symbols: region A. Green symbols: region T. Black symbols: region C. Blue symbols: region M. Small dots are the individual measurements, connected circles with error bars are means and standard deviations for depth ranges 0–200, 200–500, 500–1000, 1000–2000, 2000–4000, and greater than 4000 m. The depth given for each mean value is the mean depth of the samples in the bin, so this varies slightly from panel to panel."
      ],
      "metadata": {
        "id": "YfC7HbE_YeeT"
      },
      "id": "YfC7HbE_YeeT"
    },
    {
      "cell_type": "code",
      "source": [
        "from IPython.display import Image\n",
        "Image(filename='/content/drive/MyDrive/Colab Notebooks/images/Nelson2015-fig5.jpeg',width=600)"
      ],
      "metadata": {
        "id": "aLtAa9kZX3YD"
      },
      "id": "aLtAa9kZX3YD",
      "execution_count": null,
      "outputs": []
    }
  ],
  "metadata": {
    "colab": {
      "provenance": []
    },
    "kernelspec": {
      "display_name": "sbs39",
      "language": "python",
      "name": "python3"
    },
    "language_info": {
      "codemirror_mode": {
        "name": "ipython",
        "version": 3
      },
      "file_extension": ".py",
      "mimetype": "text/x-python",
      "name": "python",
      "nbconvert_exporter": "python",
      "pygments_lexer": "ipython3",
      "version": "3.10.14"
    },
    "toc": {
      "base_numbering": 1,
      "nav_menu": {},
      "number_sections": true,
      "sideBar": true,
      "skip_h1_title": false,
      "title_cell": "Table of Contents",
      "title_sidebar": "Contents",
      "toc_cell": false,
      "toc_position": {},
      "toc_section_display": true,
      "toc_window_display": false
    }
  },
  "nbformat": 4,
  "nbformat_minor": 5
}